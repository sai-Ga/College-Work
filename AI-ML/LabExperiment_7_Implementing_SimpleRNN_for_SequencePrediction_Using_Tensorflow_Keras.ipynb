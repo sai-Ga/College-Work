{
  "nbformat": 4,
  "nbformat_minor": 0,
  "metadata": {
    "colab": {
      "provenance": []
    },
    "kernelspec": {
      "name": "python3",
      "display_name": "Python 3"
    },
    "language_info": {
      "name": "python"
    }
  },
  "cells": [
    {
      "cell_type": "code",
      "metadata": {
        "id": "5kVbL9bEQ2u6"
      },
      "source": [
        "import pandas as pd\n",
        "import numpy as np\n",
        "import matplotlib.pyplot as plt\n",
        "from keras.models import Sequential\n",
        "from keras.layers import Dense, SimpleRNN"
      ],
      "execution_count": null,
      "outputs": []
    },
    {
      "cell_type": "code",
      "metadata": {
        "colab": {
          "base_uri": "https://localhost:8080/",
          "height": 265
        },
        "id": "EMEK8BLWRkE4",
        "outputId": "26067395-0d61-47ee-9603-5f815b6c5ce7"
      },
      "source": [
        "#Generating sample dataset\n",
        "N = 1000\n",
        "Tp = 800\n",
        "\n",
        "t=np.arange(0,N)\n",
        "x=np.sin(0.02*t)+2*np.random.rand(N)\n",
        "df = pd.DataFrame(x)\n",
        "df.head()\n",
        "\n",
        "plt.plot(df)\n",
        "plt.show()"
      ],
      "execution_count": null,
      "outputs": [
        {
          "output_type": "display_data",
          "data": {
            "text/plain": [
              "<Figure size 432x288 with 1 Axes>"
            ],
            "image/png": "[encoded data removed]"
          },
          "metadata": {
            "needs_background": "light"
          }
        }
      ]
    },
    {
      "cell_type": "code",
      "metadata": {
        "id": "YB04rpKISHZN"
      },
      "source": [
        "values=df.values\n",
        "train,test = values[0:Tp,:], values[Tp:N,:]"
      ],
      "execution_count": null,
      "outputs": []
    },
    {
      "cell_type": "code",
      "metadata": {
        "id": "kw_qECtbSjQL"
      },
      "source": [
        "#Preparing data (reshaping) RNN model requires a step value that contains n number of elements as an input sequence. Here, we define it as a 'step'.\n",
        "step = 4\n",
        "# add step elements into train and test\n",
        "test = np.append(test,np.repeat(test[-1,],step))\n",
        "train = np.append(train,np.repeat(train[-1,],step))\n"
      ],
      "execution_count": null,
      "outputs": []
    },
    {
      "cell_type": "code",
      "metadata": {
        "id": "3aZ80ppeTeBJ"
      },
      "source": [
        "# convert into dataset matrix\n",
        "def convertToMatrix(data, step):\n",
        " X, Y =[], []\n",
        " for i in range(len(data)-step):\n",
        "  d=i+step\n",
        "  X.append(data[i:d,])\n",
        "  Y.append(data[d,])\n",
        " return np.array(X), np.array(Y)\n",
        "\n",
        "trainX,trainY =convertToMatrix(train,step)\n",
        "testX,testY =convertToMatrix(test,step)"
      ],
      "execution_count": null,
      "outputs": []
    },
    {
      "cell_type": "code",
      "metadata": {
        "colab": {
          "base_uri": "https://localhost:8080/"
        },
        "id": "1daRz0nhTjca",
        "outputId": "9f57b10a-0689-4322-f21a-f7bac4649ea3"
      },
      "source": [
        "#RNN model requires three-dimensional input data. You can see the shape of testX below.\n",
        "\n",
        "trainX = np.reshape(trainX, (trainX.shape[0], 1, trainX.shape[1]))\n",
        "testX = np.reshape(testX, (testX.shape[0], 1, testX.shape[1]))\n",
        "trainX.shape"
      ],
      "execution_count": null,
      "outputs": [
        {
          "output_type": "execute_result",
          "data": {
            "text/plain": [
              "(800, 1, 4)"
            ]
          },
          "metadata": {},
          "execution_count": 6
        }
      ]
    },
    {
      "cell_type": "code",
      "metadata": {
        "colab": {
          "base_uri": "https://localhost:8080/"
        },
        "id": "T0-18U3eTpRk",
        "outputId": "d895f725-62db-4e75-effd-43081559ee61"
      },
      "source": [
        "# SimpleRNN model  Building a model with SimpleRNN\n",
        "model = Sequential()\n",
        "model.add(SimpleRNN(units=32, input_shape=(1,step), activation=\"relu\"))\n",
        "model.add(Dense(8, activation=\"relu\"))\n",
        "model.add(Dense(1))\n",
        "model.compile(loss='mean_squared_error', optimizer='rmsprop')\n",
        "model.summary()"
      ],
      "execution_count": null,
      "outputs": [
        {
          "output_type": "stream",
          "name": "stdout",
          "text": [
            "Model: \"sequential\"\n",
            "_________________________________________________________________\n",
            " Layer (type)                Output Shape              Param #   \n",
            "=================================================================\n",
            " simple_rnn (SimpleRNN)      (None, 32)                1184      \n",
            "                                                                 \n",
            " dense (Dense)               (None, 8)                 264       \n",
            "                                                                 \n",
            " dense_1 (Dense)             (None, 1)                 9         \n",
            "                                                                 \n",
            "=================================================================\n",
            "Total params: 1,457\n",
            "Trainable params: 1,457\n",
            "Non-trainable params: 0\n",
            "_________________________________________________________________\n"
          ]
        }
      ]
    },
    {
      "cell_type": "code",
      "metadata": {
        "colab": {
          "base_uri": "https://localhost:8080/"
        },
        "id": "7-_KVuPnT5yU",
        "outputId": "b1816bd0-d01e-4f8e-9123-3ff67ffc8179"
      },
      "source": [
        "# Predicting and plotting the result. We'll fit model with trainX data and predict testX data.\n",
        "\n",
        "model.fit(trainX,trainY, epochs=100, batch_size=16, verbose=2)\n",
        "trainPredict = model.predict(trainX)\n",
        "testPredict= model.predict(testX)\n",
        "predicted=np.concatenate((trainPredict,testPredict),axis=0)"
      ],
      "execution_count": null,
      "outputs": [
        {
          "output_type": "stream",
          "name": "stdout",
          "text": [
            "Epoch 1/100\n",
            "50/50 - 1s - loss: 1.1051 - 1s/epoch - 25ms/step\n",
            "Epoch 2/100\n",
            "50/50 - 0s - loss: 0.4150 - 77ms/epoch - 2ms/step\n",
            "Epoch 3/100\n",
            "50/50 - 0s - loss: 0.4059 - 81ms/epoch - 2ms/step\n",
            "Epoch 4/100\n",
            "50/50 - 0s - loss: 0.3998 - 80ms/epoch - 2ms/step\n",
            "Epoch 5/100\n",
            "50/50 - 0s - loss: 0.3916 - 79ms/epoch - 2ms/step\n",
            "Epoch 6/100\n",
            "50/50 - 0s - loss: 0.3965 - 75ms/epoch - 1ms/step\n",
            "Epoch 7/100\n",
            "50/50 - 0s - loss: 0.3921 - 91ms/epoch - 2ms/step\n",
            "Epoch 8/100\n",
            "50/50 - 0s - loss: 0.3912 - 74ms/epoch - 1ms/step\n",
            "Epoch 9/100\n",
            "50/50 - 0s - loss: 0.3914 - 75ms/epoch - 1ms/step\n",
            "Epoch 10/100\n",
            "50/50 - 0s - loss: 0.3902 - 76ms/epoch - 2ms/step\n",
            "Epoch 11/100\n",
            "50/50 - 0s - loss: 0.3891 - 78ms/epoch - 2ms/step\n",
            "Epoch 12/100\n",
            "50/50 - 0s - loss: 0.3893 - 90ms/epoch - 2ms/step\n",
            "Epoch 13/100\n",
            "50/50 - 0s - loss: 0.3868 - 79ms/epoch - 2ms/step\n",
            "Epoch 14/100\n",
            "50/50 - 0s - loss: 0.3856 - 76ms/epoch - 2ms/step\n",
            "Epoch 15/100\n",
            "50/50 - 0s - loss: 0.3856 - 81ms/epoch - 2ms/step\n",
            "Epoch 16/100\n",
            "50/50 - 0s - loss: 0.3848 - 81ms/epoch - 2ms/step\n",
            "Epoch 17/100\n",
            "50/50 - 0s - loss: 0.3833 - 75ms/epoch - 1ms/step\n",
            "Epoch 18/100\n",
            "50/50 - 0s - loss: 0.3858 - 80ms/epoch - 2ms/step\n",
            "Epoch 19/100\n",
            "50/50 - 0s - loss: 0.3820 - 78ms/epoch - 2ms/step\n",
            "Epoch 20/100\n",
            "50/50 - 0s - loss: 0.3838 - 79ms/epoch - 2ms/step\n",
            "Epoch 21/100\n",
            "50/50 - 0s - loss: 0.3806 - 74ms/epoch - 1ms/step\n",
            "Epoch 22/100\n",
            "50/50 - 0s - loss: 0.3809 - 77ms/epoch - 2ms/step\n",
            "Epoch 23/100\n",
            "50/50 - 0s - loss: 0.3808 - 77ms/epoch - 2ms/step\n",
            "Epoch 24/100\n",
            "50/50 - 0s - loss: 0.3783 - 74ms/epoch - 1ms/step\n",
            "Epoch 25/100\n",
            "50/50 - 0s - loss: 0.3814 - 87ms/epoch - 2ms/step\n",
            "Epoch 26/100\n",
            "50/50 - 0s - loss: 0.3765 - 75ms/epoch - 1ms/step\n",
            "Epoch 27/100\n",
            "50/50 - 0s - loss: 0.3769 - 80ms/epoch - 2ms/step\n",
            "Epoch 28/100\n",
            "50/50 - 0s - loss: 0.3762 - 76ms/epoch - 2ms/step\n",
            "Epoch 29/100\n",
            "50/50 - 0s - loss: 0.3742 - 75ms/epoch - 1ms/step\n",
            "Epoch 30/100\n",
            "50/50 - 0s - loss: 0.3762 - 74ms/epoch - 1ms/step\n",
            "Epoch 31/100\n",
            "50/50 - 0s - loss: 0.3756 - 73ms/epoch - 1ms/step\n",
            "Epoch 32/100\n",
            "50/50 - 0s - loss: 0.3759 - 79ms/epoch - 2ms/step\n",
            "Epoch 33/100\n",
            "50/50 - 0s - loss: 0.3725 - 88ms/epoch - 2ms/step\n",
            "Epoch 34/100\n",
            "50/50 - 0s - loss: 0.3746 - 82ms/epoch - 2ms/step\n",
            "Epoch 35/100\n",
            "50/50 - 0s - loss: 0.3703 - 93ms/epoch - 2ms/step\n",
            "Epoch 36/100\n",
            "50/50 - 0s - loss: 0.3744 - 82ms/epoch - 2ms/step\n",
            "Epoch 37/100\n",
            "50/50 - 0s - loss: 0.3712 - 87ms/epoch - 2ms/step\n",
            "Epoch 38/100\n",
            "50/50 - 0s - loss: 0.3717 - 76ms/epoch - 2ms/step\n",
            "Epoch 39/100\n",
            "50/50 - 0s - loss: 0.3693 - 76ms/epoch - 2ms/step\n",
            "Epoch 40/100\n",
            "50/50 - 0s - loss: 0.3715 - 82ms/epoch - 2ms/step\n",
            "Epoch 41/100\n",
            "50/50 - 0s - loss: 0.3712 - 75ms/epoch - 2ms/step\n",
            "Epoch 42/100\n",
            "50/50 - 0s - loss: 0.3698 - 90ms/epoch - 2ms/step\n",
            "Epoch 43/100\n",
            "50/50 - 0s - loss: 0.3687 - 78ms/epoch - 2ms/step\n",
            "Epoch 44/100\n",
            "50/50 - 0s - loss: 0.3668 - 81ms/epoch - 2ms/step\n",
            "Epoch 45/100\n",
            "50/50 - 0s - loss: 0.3670 - 78ms/epoch - 2ms/step\n",
            "Epoch 46/100\n",
            "50/50 - 0s - loss: 0.3670 - 83ms/epoch - 2ms/step\n",
            "Epoch 47/100\n",
            "50/50 - 0s - loss: 0.3681 - 79ms/epoch - 2ms/step\n",
            "Epoch 48/100\n",
            "50/50 - 0s - loss: 0.3649 - 73ms/epoch - 1ms/step\n",
            "Epoch 49/100\n",
            "50/50 - 0s - loss: 0.3661 - 88ms/epoch - 2ms/step\n",
            "Epoch 50/100\n",
            "50/50 - 0s - loss: 0.3659 - 78ms/epoch - 2ms/step\n",
            "Epoch 51/100\n",
            "50/50 - 0s - loss: 0.3659 - 76ms/epoch - 2ms/step\n",
            "Epoch 52/100\n",
            "50/50 - 0s - loss: 0.3609 - 73ms/epoch - 1ms/step\n",
            "Epoch 53/100\n",
            "50/50 - 0s - loss: 0.3648 - 80ms/epoch - 2ms/step\n",
            "Epoch 54/100\n",
            "50/50 - 0s - loss: 0.3652 - 76ms/epoch - 2ms/step\n",
            "Epoch 55/100\n",
            "50/50 - 0s - loss: 0.3638 - 78ms/epoch - 2ms/step\n",
            "Epoch 56/100\n",
            "50/50 - 0s - loss: 0.3638 - 78ms/epoch - 2ms/step\n",
            "Epoch 57/100\n",
            "50/50 - 0s - loss: 0.3645 - 81ms/epoch - 2ms/step\n",
            "Epoch 58/100\n",
            "50/50 - 0s - loss: 0.3647 - 80ms/epoch - 2ms/step\n",
            "Epoch 59/100\n",
            "50/50 - 0s - loss: 0.3630 - 73ms/epoch - 1ms/step\n",
            "Epoch 60/100\n",
            "50/50 - 0s - loss: 0.3618 - 74ms/epoch - 1ms/step\n",
            "Epoch 61/100\n",
            "50/50 - 0s - loss: 0.3646 - 78ms/epoch - 2ms/step\n",
            "Epoch 62/100\n",
            "50/50 - 0s - loss: 0.3602 - 82ms/epoch - 2ms/step\n",
            "Epoch 63/100\n",
            "50/50 - 0s - loss: 0.3609 - 76ms/epoch - 2ms/step\n",
            "Epoch 64/100\n",
            "50/50 - 0s - loss: 0.3621 - 74ms/epoch - 1ms/step\n",
            "Epoch 65/100\n",
            "50/50 - 0s - loss: 0.3593 - 76ms/epoch - 2ms/step\n",
            "Epoch 66/100\n",
            "50/50 - 0s - loss: 0.3605 - 72ms/epoch - 1ms/step\n",
            "Epoch 67/100\n",
            "50/50 - 0s - loss: 0.3599 - 77ms/epoch - 2ms/step\n",
            "Epoch 68/100\n",
            "50/50 - 0s - loss: 0.3608 - 75ms/epoch - 1ms/step\n",
            "Epoch 69/100\n",
            "50/50 - 0s - loss: 0.3582 - 81ms/epoch - 2ms/step\n",
            "Epoch 70/100\n",
            "50/50 - 0s - loss: 0.3602 - 76ms/epoch - 2ms/step\n",
            "Epoch 71/100\n",
            "50/50 - 0s - loss: 0.3579 - 75ms/epoch - 2ms/step\n",
            "Epoch 72/100\n",
            "50/50 - 0s - loss: 0.3585 - 73ms/epoch - 1ms/step\n",
            "Epoch 73/100\n",
            "50/50 - 0s - loss: 0.3585 - 76ms/epoch - 2ms/step\n",
            "Epoch 74/100\n",
            "50/50 - 0s - loss: 0.3572 - 81ms/epoch - 2ms/step\n",
            "Epoch 75/100\n",
            "50/50 - 0s - loss: 0.3587 - 76ms/epoch - 2ms/step\n",
            "Epoch 76/100\n",
            "50/50 - 0s - loss: 0.3592 - 84ms/epoch - 2ms/step\n",
            "Epoch 77/100\n",
            "50/50 - 0s - loss: 0.3586 - 72ms/epoch - 1ms/step\n",
            "Epoch 78/100\n",
            "50/50 - 0s - loss: 0.3574 - 79ms/epoch - 2ms/step\n",
            "Epoch 79/100\n",
            "50/50 - 0s - loss: 0.3571 - 79ms/epoch - 2ms/step\n",
            "Epoch 80/100\n",
            "50/50 - 0s - loss: 0.3572 - 85ms/epoch - 2ms/step\n",
            "Epoch 81/100\n",
            "50/50 - 0s - loss: 0.3568 - 79ms/epoch - 2ms/step\n",
            "Epoch 82/100\n",
            "50/50 - 0s - loss: 0.3545 - 75ms/epoch - 2ms/step\n",
            "Epoch 83/100\n",
            "50/50 - 0s - loss: 0.3550 - 78ms/epoch - 2ms/step\n",
            "Epoch 84/100\n",
            "50/50 - 0s - loss: 0.3571 - 73ms/epoch - 1ms/step\n",
            "Epoch 85/100\n",
            "50/50 - 0s - loss: 0.3555 - 78ms/epoch - 2ms/step\n",
            "Epoch 86/100\n",
            "50/50 - 0s - loss: 0.3555 - 76ms/epoch - 2ms/step\n",
            "Epoch 87/100\n",
            "50/50 - 0s - loss: 0.3525 - 89ms/epoch - 2ms/step\n",
            "Epoch 88/100\n",
            "50/50 - 0s - loss: 0.3564 - 76ms/epoch - 2ms/step\n",
            "Epoch 89/100\n",
            "50/50 - 0s - loss: 0.3537 - 79ms/epoch - 2ms/step\n",
            "Epoch 90/100\n",
            "50/50 - 0s - loss: 0.3542 - 80ms/epoch - 2ms/step\n",
            "Epoch 91/100\n",
            "50/50 - 0s - loss: 0.3553 - 81ms/epoch - 2ms/step\n",
            "Epoch 92/100\n",
            "50/50 - 0s - loss: 0.3546 - 75ms/epoch - 2ms/step\n",
            "Epoch 93/100\n",
            "50/50 - 0s - loss: 0.3536 - 80ms/epoch - 2ms/step\n",
            "Epoch 94/100\n",
            "50/50 - 0s - loss: 0.3519 - 73ms/epoch - 1ms/step\n",
            "Epoch 95/100\n",
            "50/50 - 0s - loss: 0.3551 - 78ms/epoch - 2ms/step\n",
            "Epoch 96/100\n",
            "50/50 - 0s - loss: 0.3534 - 74ms/epoch - 1ms/step\n",
            "Epoch 97/100\n",
            "50/50 - 0s - loss: 0.3515 - 73ms/epoch - 1ms/step\n",
            "Epoch 98/100\n",
            "50/50 - 0s - loss: 0.3532 - 81ms/epoch - 2ms/step\n",
            "Epoch 99/100\n",
            "50/50 - 0s - loss: 0.3528 - 82ms/epoch - 2ms/step\n",
            "Epoch 100/100\n",
            "50/50 - 0s - loss: 0.3491 - 78ms/epoch - 2ms/step\n",
            "25/25 [==============================] - 0s 3ms/step\n",
            "7/7 [==============================] - 0s 6ms/step\n"
          ]
        }
      ]
    },
    {
      "cell_type": "code",
      "metadata": {
        "colab": {
          "base_uri": "https://localhost:8080/"
        },
        "id": "lknTaDmcUH9h",
        "outputId": "72cf261c-1fef-4962-e124-9491587b4bdc"
      },
      "source": [
        "#check the loss\n",
        "\n",
        "trainScore = model.evaluate(trainX, trainY, verbose=0)\n",
        "print(trainScore)"
      ],
      "execution_count": null,
      "outputs": [
        {
          "output_type": "stream",
          "name": "stdout",
          "text": [
            "0.34841084480285645\n"
          ]
        }
      ]
    },
    {
      "cell_type": "code",
      "metadata": {
        "colab": {
          "base_uri": "https://localhost:8080/",
          "height": 268
        },
        "id": "X9zONGizUkf8",
        "outputId": "91688c87-7009-4240-f08d-8d53c8d705b9"
      },
      "source": [
        "index = df.index.values\n",
        "plt.plot(index,predicted)\n",
        "plt.axvline(df.index[Tp], c=\"r\")\n",
        "plt.show()"
      ],
      "execution_count": null,
      "outputs": [
        {
          "output_type": "display_data",
          "data": {
            "text/plain": [
              "<Figure size 432x288 with 1 Axes>"
            ],
            "image/png": "[encoded data removed]"
          },
          "metadata": {
            "needs_background": "light"
          }
        }
      ]
    }
  ]
}