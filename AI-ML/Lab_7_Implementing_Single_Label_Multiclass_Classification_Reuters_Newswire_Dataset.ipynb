{
  "nbformat": 4,
  "nbformat_minor": 0,
  "metadata": {
    "colab": {
      "provenance": []
    },
    "kernelspec": {
      "name": "python3",
      "display_name": "Python 3"
    },
    "language_info": {
      "name": "python"
    }
  },
  "cells": [
    {
      "cell_type": "markdown",
      "source": [
        "# Lab 7 - Implementing Single-Label, Multiclass Classification\n",
        "\n",
        "**Date:** 01 Nov 2023\n",
        "\n",
        "**Problem Description:** Build a network to classify Reuters newswires into 46 mutually exclusive topics.\n",
        "\n",
        "The network should have an input layer, two hidden layer and one output layer. The hidden layers should use ReLU activation and have 64 units. The final layer should use Softmax as the activation function. Due to softmax layer the output layer will output 46 probability values.\n",
        "\n",
        "You will use one-hot encoding (similar to what we used for IMDB Movie Reviews lab) to vectorize the training and test data into binary matrix of shape (dataset-size, 10,0000).\n",
        "\n",
        "Even the training labels and test labels, which are originally integer labels should be converted into 46 dimensional binary vectors,using one-hot encoding (or categorical encoding). You may use, *to_categorical()* function from *keras.utils* module for this.\n",
        "\n",
        "Use *categorical_crossentropy* as the loss function during training, and *rmsprop* as the optimizer, and *accuracy* as the monitoring metric.\n",
        "\n",
        "During training phase, set apart initial 1000 training and test data as validation set for evaluation during the training. Train for 20 epochs with batch_size as 512.\n",
        "\n",
        "Use the history datastructure to plot the *validation loss* and *training loss* in a single plot using matplotlib. Also do similar plotting for *validation accuracy* and *training accuracy*. Use these plots to identify the epoch for early stopping. Retrain a new neural network from scratch using all the training data for only this no of epochs to avoid overfitting.\n",
        "\n",
        "Finally evaluate your regularized neural network model on the test data.\n",
        "\n",
        "\n",
        "\n",
        "***Note:*** Because there are many classes, this problem is an instance of *multi-class classification*. And because each data point should be classified into only one category, the problem is more specifically an instance of *single-label, multiclass classification*. If each data point could belong to multiple categories (in this case, topics), you'd be facing a *multilabel, multiclass classification* problem.  \n",
        "\n"
      ],
      "metadata": {
        "id": "JBkJvGnhCuQO"
      }
    },
    {
      "cell_type": "markdown",
      "source": [
        "## Step 1 - Load and Explore the Reuters Dataset\n",
        "The Reuters dataset is a set of short newswires and their topics, published by Reuters in 1986.\n",
        "\n",
        "It’s a simple, widely used toy dataset for text classification.\n",
        "\n",
        "There are 46 different topics; some topics are more represented than others, but each topic has at least 10 examples in the training set."
      ],
      "metadata": {
        "id": "58ug6CxNEUH7"
      }
    },
    {
      "cell_type": "code",
      "execution_count": null,
      "metadata": {
        "colab": {
          "base_uri": "https://localhost:8080/"
        },
        "id": "e0QsFG0-ChBZ",
        "outputId": "9cbe8b41-b7f9-4b5a-ecc5-c154bcb47224"
      },
      "outputs": [
        {
          "output_type": "stream",
          "name": "stdout",
          "text": [
            "Downloading data from https://storage.googleapis.com/tensorflow/tf-keras-datasets/reuters.npz\n",
            "2110848/2110848 [==============================] - 0s 0us/step\n"
          ]
        }
      ],
      "source": [
        "from keras.datasets import reuters\n",
        "\n",
        "# the argument num_words=10000 restricts the data to the 10,000 most frequently occuring words found in the data\n",
        "(train_data, train_labels), (test_data, test_labels) = reuters.load_data(num_words=10000)"
      ]
    },
    {
      "cell_type": "code",
      "source": [
        "# The dataset has 8,982 training examples and 2,246 test examples\n",
        "print(\"training data size: \", len(train_data))\n",
        "print(\"test data size: \", len(test_data))"
      ],
      "metadata": {
        "colab": {
          "base_uri": "https://localhost:8080/"
        },
        "id": "tcZkwxVQiVj4",
        "outputId": "786cdcd7-0bc1-49b2-f705-89fcd4990610"
      },
      "execution_count": null,
      "outputs": [
        {
          "output_type": "stream",
          "name": "stdout",
          "text": [
            "training data size:  8982\n",
            "test data size:  2246\n"
          ]
        }
      ]
    },
    {
      "cell_type": "code",
      "source": [
        "# Each example is a list of integers (word indices)\n",
        "print(train_data[10])"
      ],
      "metadata": {
        "colab": {
          "base_uri": "https://localhost:8080/"
        },
        "id": "GWWB0kfQiyjL",
        "outputId": "31456fc2-fd54-4466-daac-08259aee9eee"
      },
      "execution_count": null,
      "outputs": [
        {
          "output_type": "stream",
          "name": "stdout",
          "text": [
            "[1, 245, 273, 207, 156, 53, 74, 160, 26, 14, 46, 296, 26, 39, 74, 2979, 3554, 14, 46, 4689, 4329, 86, 61, 3499, 4795, 14, 61, 451, 4329, 17, 12]\n"
          ]
        }
      ]
    },
    {
      "cell_type": "code",
      "source": [
        "# Decoding the examples back to words\n",
        "word_index = reuters.get_word_index()\n",
        "\n",
        "# print(word_index)\n",
        "\n",
        "reverse_word_index = dict([(value, key) for (key, value) in word_index.items()])\n",
        "\n",
        "# print(reverse_word_index)\n",
        "\n",
        "# Note that the indices are offset by 3 because 0, 1, and 2 are reserved indices for \"padding\", \"start of sequence\", and \"unknown\".\n",
        "decoded_newswire = ' '.join([reverse_word_index.get(i - 3, '?') for i in train_data[10]])\n",
        "\n",
        "print(decoded_newswire)\n"
      ],
      "metadata": {
        "colab": {
          "base_uri": "https://localhost:8080/"
        },
        "id": "Y-Hy-I0VjBw_",
        "outputId": "72e6f249-006b-48a2-e997-b4b5b019f8cd"
      },
      "execution_count": null,
      "outputs": [
        {
          "output_type": "stream",
          "name": "stdout",
          "text": [
            "Downloading data from https://storage.googleapis.com/tensorflow/tf-keras-datasets/reuters_word_index.json\n",
            "550378/550378 [==============================] - 0s 0us/step\n",
            "? period ended december 31 shr profit 11 cts vs loss 24 cts net profit 224 271 vs loss 511 349 revs 7 258 688 vs 7 200 349 reuter 3\n"
          ]
        }
      ]
    },
    {
      "cell_type": "code",
      "source": [
        "# The labels associated with an example is an integer between 0 and 45 - topic index\n",
        "print(train_labels[10])"
      ],
      "metadata": {
        "colab": {
          "base_uri": "https://localhost:8080/"
        },
        "id": "I1n-Q93UlBYi",
        "outputId": "7a79097c-06cc-4087-c9d6-4cdeb2a919f6"
      },
      "execution_count": null,
      "outputs": [
        {
          "output_type": "stream",
          "name": "stdout",
          "text": [
            "3\n"
          ]
        }
      ]
    },
    {
      "cell_type": "code",
      "source": [],
      "metadata": {
        "id": "nXq1PjgOvhU7"
      },
      "execution_count": null,
      "outputs": []
    },
    {
      "cell_type": "markdown",
      "source": [
        "## Step 2 - Prepare the data\n",
        "Here we will vectorize the data to transform each sample into a binary vector using one-hot encoding."
      ],
      "metadata": {
        "id": "D9Rx1vH3lVoR"
      }
    },
    {
      "cell_type": "code",
      "source": [
        "import numpy as np\n",
        "\n",
        "def vectorize_sequences(sequences, dimension=10000):\n",
        "  results = np.zeros((len(sequences), dimension))\n",
        "  for i, sequence in enumerate(sequences):\n",
        "    results[i,sequence] = 1.\n",
        "  return results"
      ],
      "metadata": {
        "id": "45Q8TzaGlm0-"
      },
      "execution_count": null,
      "outputs": []
    },
    {
      "cell_type": "code",
      "source": [
        "x_train = vectorize_sequences(train_data) # vectorize training data\n",
        "x_test = vectorize_sequences(test_data) # vectorize test data"
      ],
      "metadata": {
        "id": "X2nGwxERmhn_"
      },
      "execution_count": null,
      "outputs": []
    },
    {
      "cell_type": "code",
      "source": [
        "# We will one hot encode the labels as well. One hot encoding is also known as categorical encoding\n",
        "# To one hot encode the labels, we will embed each integer label as an all-zero vector with a 1 in place of the label index\n",
        "\n",
        "# label is 3 --> 0001000000.....0\n",
        "# label is 46 --> 000000 .......1\n",
        "\n",
        "def to_one_hot(labels, dimension=46):\n",
        "  results = np.zeros((len(labels),dimension))\n",
        "  for i, label in enumerate(labels):\n",
        "    results[i, label] = 1.\n",
        "  return results"
      ],
      "metadata": {
        "id": "U6_rNvbmm3aL"
      },
      "execution_count": null,
      "outputs": []
    },
    {
      "cell_type": "code",
      "source": [
        "one_hot_train_labels = to_one_hot(train_labels) # vectorize training labels\n",
        "one_hot_test_labels = to_one_hot(test_labels) # Vectorize test labels"
      ],
      "metadata": {
        "id": "mIoX9f_ynwBV"
      },
      "execution_count": null,
      "outputs": []
    },
    {
      "cell_type": "code",
      "source": [
        "# Alternatively, we can use the built in function in Keras to do categorical (one hot) encoding\n",
        "from keras.utils import to_categorical\n",
        "\n",
        "one_hot_train_labels = to_categorical(train_labels)\n",
        "one_hot_test_labels = to_categorical(test_labels)"
      ],
      "metadata": {
        "id": "3UEtxXWBoU0B"
      },
      "execution_count": null,
      "outputs": []
    },
    {
      "cell_type": "code",
      "source": [
        "print(one_hot_train_labels[10])"
      ],
      "metadata": {
        "colab": {
          "base_uri": "https://localhost:8080/"
        },
        "id": "rUz1Yhxto1iH",
        "outputId": "d408fc3c-250c-4cbc-a8a2-2ab442dbcf81"
      },
      "execution_count": null,
      "outputs": [
        {
          "output_type": "stream",
          "name": "stdout",
          "text": [
            "[0. 0. 0. 1. 0. 0. 0. 0. 0. 0. 0. 0. 0. 0. 0. 0. 0. 0. 0. 0. 0. 0. 0. 0.\n",
            " 0. 0. 0. 0. 0. 0. 0. 0. 0. 0. 0. 0. 0. 0. 0. 0. 0. 0. 0. 0. 0. 0.]\n"
          ]
        }
      ]
    },
    {
      "cell_type": "markdown",
      "source": [],
      "metadata": {
        "id": "wx1_m9Bpwtpv"
      }
    },
    {
      "cell_type": "markdown",
      "source": [
        "## Step 3 - Building the Network"
      ],
      "metadata": {
        "id": "D064EWHNpCtD"
      }
    },
    {
      "cell_type": "code",
      "source": [
        "from keras import models\n",
        "from keras import layers\n",
        "\n",
        "model = models.Sequential()\n",
        "model.add(layers.Dense(64, activation='relu', input_shape=(10000,)))\n",
        "model.add(layers.Dense(64, activation='relu'))\n",
        "model.add(layers.Dense(46, activation='softmax'))"
      ],
      "metadata": {
        "id": "DAtMvNpjcRgr"
      },
      "execution_count": null,
      "outputs": []
    },
    {
      "cell_type": "markdown",
      "source": [
        "# Step 4 - Compile the network"
      ],
      "metadata": {
        "id": "GMpvsXnperyj"
      }
    },
    {
      "cell_type": "code",
      "source": [
        "model.compile(optimizer='rmsprop', loss='categorical_crossentropy',metrics=['accuracy'])"
      ],
      "metadata": {
        "id": "NInQUfjfeu3F"
      },
      "execution_count": null,
      "outputs": []
    },
    {
      "cell_type": "markdown",
      "source": [
        "# Step 5 - Train the model using Cross Validation"
      ],
      "metadata": {
        "id": "Hjb-pbfye8_B"
      }
    },
    {
      "cell_type": "code",
      "source": [
        "x_val = x_train[:1000]\n",
        "partial_x_train = x_train[1000:]\n",
        "\n",
        "y_val = one_hot_train_labels[:1000]\n",
        "partial_y_train = one_hot_train_labels[1000:]"
      ],
      "metadata": {
        "id": "24BOkKC2fOhb"
      },
      "execution_count": null,
      "outputs": []
    },
    {
      "cell_type": "markdown",
      "source": [
        "Let us train our model for 20 epochs"
      ],
      "metadata": {
        "id": "bu4kIDQgf4Pa"
      }
    },
    {
      "cell_type": "code",
      "source": [
        "history = model.fit(partial_x_train, partial_y_train, epochs=20, batch_size=512,\n",
        "                    validation_data=(x_val,y_val))"
      ],
      "metadata": {
        "colab": {
          "base_uri": "https://localhost:8080/"
        },
        "id": "WbJVuAGsf6yp",
        "outputId": "51866a91-6e60-444d-b718-ecd415db50a7"
      },
      "execution_count": null,
      "outputs": [
        {
          "output_type": "stream",
          "name": "stdout",
          "text": [
            "Epoch 1/20\n",
            "16/16 [==============================] - 2s 90ms/step - loss: 2.7126 - accuracy: 0.4861 - val_loss: 1.8629 - val_accuracy: 0.6110\n",
            "Epoch 2/20\n",
            "16/16 [==============================] - 1s 84ms/step - loss: 1.5721 - accuracy: 0.6721 - val_loss: 1.4007 - val_accuracy: 0.6860\n",
            "Epoch 3/20\n",
            "16/16 [==============================] - 1s 84ms/step - loss: 1.2070 - accuracy: 0.7330 - val_loss: 1.2175 - val_accuracy: 0.7200\n",
            "Epoch 4/20\n",
            "16/16 [==============================] - 1s 81ms/step - loss: 0.9902 - accuracy: 0.7809 - val_loss: 1.1357 - val_accuracy: 0.7380\n",
            "Epoch 5/20\n",
            "16/16 [==============================] - 1s 54ms/step - loss: 0.8296 - accuracy: 0.8176 - val_loss: 1.0414 - val_accuracy: 0.7710\n",
            "Epoch 6/20\n",
            "16/16 [==============================] - 1s 54ms/step - loss: 0.6973 - accuracy: 0.8489 - val_loss: 0.9908 - val_accuracy: 0.7840\n",
            "Epoch 7/20\n",
            "16/16 [==============================] - 1s 50ms/step - loss: 0.5844 - accuracy: 0.8732 - val_loss: 0.9286 - val_accuracy: 0.8070\n",
            "Epoch 8/20\n",
            "16/16 [==============================] - 1s 47ms/step - loss: 0.4927 - accuracy: 0.8946 - val_loss: 0.9346 - val_accuracy: 0.8100\n",
            "Epoch 9/20\n",
            "16/16 [==============================] - 1s 48ms/step - loss: 0.4140 - accuracy: 0.9124 - val_loss: 0.8772 - val_accuracy: 0.8110\n",
            "Epoch 10/20\n",
            "16/16 [==============================] - 1s 54ms/step - loss: 0.3504 - accuracy: 0.9226 - val_loss: 0.9613 - val_accuracy: 0.7900\n",
            "Epoch 11/20\n",
            "16/16 [==============================] - 1s 52ms/step - loss: 0.3051 - accuracy: 0.9320 - val_loss: 0.8863 - val_accuracy: 0.8100\n",
            "Epoch 12/20\n",
            "16/16 [==============================] - 1s 49ms/step - loss: 0.2646 - accuracy: 0.9412 - val_loss: 0.8813 - val_accuracy: 0.8160\n",
            "Epoch 13/20\n",
            "16/16 [==============================] - 1s 48ms/step - loss: 0.2294 - accuracy: 0.9473 - val_loss: 0.8974 - val_accuracy: 0.8080\n",
            "Epoch 14/20\n",
            "16/16 [==============================] - 1s 54ms/step - loss: 0.2097 - accuracy: 0.9486 - val_loss: 0.8995 - val_accuracy: 0.8150\n",
            "Epoch 15/20\n",
            "16/16 [==============================] - 1s 52ms/step - loss: 0.1829 - accuracy: 0.9516 - val_loss: 0.9374 - val_accuracy: 0.8120\n",
            "Epoch 16/20\n",
            "16/16 [==============================] - 1s 50ms/step - loss: 0.1743 - accuracy: 0.9533 - val_loss: 0.9166 - val_accuracy: 0.8030\n",
            "Epoch 17/20\n",
            "16/16 [==============================] - 1s 80ms/step - loss: 0.1600 - accuracy: 0.9558 - val_loss: 0.9103 - val_accuracy: 0.8060\n",
            "Epoch 18/20\n",
            "16/16 [==============================] - 1s 78ms/step - loss: 0.1471 - accuracy: 0.9558 - val_loss: 1.0043 - val_accuracy: 0.8020\n",
            "Epoch 19/20\n",
            "16/16 [==============================] - 1s 84ms/step - loss: 0.1412 - accuracy: 0.9554 - val_loss: 0.9325 - val_accuracy: 0.8110\n",
            "Epoch 20/20\n",
            "16/16 [==============================] - 1s 66ms/step - loss: 0.1299 - accuracy: 0.9577 - val_loss: 0.9533 - val_accuracy: 0.8110\n"
          ]
        }
      ]
    },
    {
      "cell_type": "markdown",
      "source": [
        "Let us display the loss and accuracy curves"
      ],
      "metadata": {
        "id": "j0dyA9AWhf4K"
      }
    },
    {
      "cell_type": "code",
      "source": [
        "import matplotlib.pyplot as plt\n",
        "\n",
        "loss = history.history['loss']\n",
        "val_loss = history.history['val_loss']\n",
        "\n",
        "epochs = range(1, len(loss) + 1)\n",
        "\n",
        "plt.plot(epochs, loss, 'bo', label='Training Loss')\n",
        "plt.plot(epochs, val_loss, 'b', label='Validation Loss')\n",
        "plt.title('Training and Validation Loss')\n",
        "plt.xlabel('Epochs')\n",
        "plt.ylabel('Loss')\n",
        "plt.legend()"
      ],
      "metadata": {
        "colab": {
          "base_uri": "https://localhost:8080/",
          "height": 490
        },
        "id": "Hr8ETb-Ehpuf",
        "outputId": "088c99cd-7cf5-4ca0-c28e-6cabb6531b62"
      },
      "execution_count": null,
      "outputs": [
        {
          "output_type": "execute_result",
          "data": {
            "text/plain": [
              "<matplotlib.legend.Legend at 0x7c8ae75737c0>"
            ]
          },
          "metadata": {},
          "execution_count": 18
        },
        {
          "output_type": "display_data",
          "data": {
            "text/plain": [
              "<Figure size 640x480 with 1 Axes>"
            ],
            "image/png": "[encoded data removed]"
          },
          "metadata": {}
        }
      ]
    },
    {
      "cell_type": "code",
      "source": [
        "import matplotlib.pyplot as plt\n",
        "\n",
        "acc = history.history['accuracy']\n",
        "val_acc = history.history['val_accuracy']\n",
        "\n",
        "plt.plot(epochs, acc, 'bo', label='Training Accuracy')\n",
        "plt.plot(epochs, val_acc, 'b', label='Validation Accuracy')\n",
        "plt.title('Training and Validation Accuracy')\n",
        "plt.xlabel('Epochs')\n",
        "plt.ylabel('Accuracy')\n",
        "plt.legend()"
      ],
      "metadata": {
        "colab": {
          "base_uri": "https://localhost:8080/",
          "height": 490
        },
        "id": "wllrun4HjCMr",
        "outputId": "ea6c957c-a4d0-4a76-9172-08ac60226a3d"
      },
      "execution_count": null,
      "outputs": [
        {
          "output_type": "execute_result",
          "data": {
            "text/plain": [
              "<matplotlib.legend.Legend at 0x7c8ae7147ee0>"
            ]
          },
          "metadata": {},
          "execution_count": 20
        },
        {
          "output_type": "display_data",
          "data": {
            "text/plain": [
              "<Figure size 640x480 with 1 Axes>"
            ],
            "image/png": "[encoded data removed]"
          },
          "metadata": {}
        }
      ]
    },
    {
      "cell_type": "markdown",
      "source": [
        "We observe that overfitting starts at epoch no 9. So we should now retrain a new model from scratch only for 9 epochs on all the data and then evaluate this model on the test data."
      ],
      "metadata": {
        "id": "S0d0sIwYlApZ"
      }
    },
    {
      "cell_type": "code",
      "source": [
        "model = models.Sequential()\n",
        "model.add(layers.Dense(64, activation='relu', input_shape=(10000,)))\n",
        "model.add(layers.Dense(64, activation='relu'))\n",
        "model.add(layers.Dense(46, activation='softmax'))"
      ],
      "metadata": {
        "id": "fpwxKps7lL3q"
      },
      "execution_count": null,
      "outputs": []
    },
    {
      "cell_type": "code",
      "source": [
        "model.compile(optimizer='rmsprop', loss='categorical_crossentropy',metrics=['accuracy'])"
      ],
      "metadata": {
        "id": "ecNm8UxglSRI"
      },
      "execution_count": null,
      "outputs": []
    },
    {
      "cell_type": "code",
      "source": [
        "model.fit(x_train, one_hot_train_labels, epochs=9, batch_size=512)\n"
      ],
      "metadata": {
        "colab": {
          "base_uri": "https://localhost:8080/"
        },
        "id": "5CLKl74sla7Q",
        "outputId": "3dfac796-4d0d-4bd3-dafb-b0bb7e9aa26a"
      },
      "execution_count": null,
      "outputs": [
        {
          "output_type": "stream",
          "name": "stdout",
          "text": [
            "Epoch 1/9\n",
            "18/18 [==============================] - 4s 170ms/step - loss: 2.5565 - accuracy: 0.5178\n",
            "Epoch 2/9\n",
            "18/18 [==============================] - 2s 125ms/step - loss: 1.4913 - accuracy: 0.6779\n",
            "Epoch 3/9\n",
            "18/18 [==============================] - 2s 101ms/step - loss: 1.1408 - accuracy: 0.7560\n",
            "Epoch 4/9\n",
            "18/18 [==============================] - 1s 69ms/step - loss: 0.9274 - accuracy: 0.8002\n",
            "Epoch 5/9\n",
            "18/18 [==============================] - 1s 52ms/step - loss: 0.7673 - accuracy: 0.8377\n",
            "Epoch 6/9\n",
            "18/18 [==============================] - 1s 44ms/step - loss: 0.6398 - accuracy: 0.8622\n",
            "Epoch 7/9\n",
            "18/18 [==============================] - 1s 43ms/step - loss: 0.5393 - accuracy: 0.8845\n",
            "Epoch 8/9\n",
            "18/18 [==============================] - 1s 43ms/step - loss: 0.4486 - accuracy: 0.9043\n",
            "Epoch 9/9\n",
            "18/18 [==============================] - 1s 40ms/step - loss: 0.3806 - accuracy: 0.9184\n"
          ]
        },
        {
          "output_type": "execute_result",
          "data": {
            "text/plain": [
              "<keras.src.callbacks.History at 0x7c8ae7a3b340>"
            ]
          },
          "metadata": {},
          "execution_count": 23
        }
      ]
    },
    {
      "cell_type": "code",
      "source": [
        "results = model.evaluate(x_test, one_hot_test_labels)"
      ],
      "metadata": {
        "colab": {
          "base_uri": "https://localhost:8080/"
        },
        "id": "DfpP6JA8l4wp",
        "outputId": "f2d154d7-199b-4029-faac-c1bc1e04aa48"
      },
      "execution_count": null,
      "outputs": [
        {
          "output_type": "stream",
          "name": "stdout",
          "text": [
            "71/71 [==============================] - 1s 6ms/step - loss: 0.9062 - accuracy: 0.7956\n"
          ]
        }
      ]
    },
    {
      "cell_type": "code",
      "source": [
        "results"
      ],
      "metadata": {
        "colab": {
          "base_uri": "https://localhost:8080/"
        },
        "id": "uxab6i6ZmETB",
        "outputId": "46992fb1-74f8-4705-cecb-3b5ae1d2ffea"
      },
      "execution_count": null,
      "outputs": [
        {
          "output_type": "execute_result",
          "data": {
            "text/plain": [
              "[0.9062262177467346, 0.7956367135047913]"
            ]
          },
          "metadata": {},
          "execution_count": 25
        }
      ]
    },
    {
      "cell_type": "markdown",
      "source": [
        "Use your Final Selected Model for predictions"
      ],
      "metadata": {
        "id": "oazkmu8zmYcx"
      }
    },
    {
      "cell_type": "code",
      "source": [
        "# Generate Predictions on New Data\n",
        "predictions = model.predict(x_test)"
      ],
      "metadata": {
        "colab": {
          "base_uri": "https://localhost:8080/"
        },
        "id": "cqEkpRHKmjz7",
        "outputId": "296b882e-bd2a-42c2-9ad2-b22252790b13"
      },
      "execution_count": null,
      "outputs": [
        {
          "output_type": "stream",
          "name": "stdout",
          "text": [
            "71/71 [==============================] - 0s 3ms/step\n"
          ]
        }
      ]
    },
    {
      "cell_type": "code",
      "source": [
        "predictions[0].shape"
      ],
      "metadata": {
        "colab": {
          "base_uri": "https://localhost:8080/"
        },
        "id": "ZEiQkqaUmu5c",
        "outputId": "1bcad157-f954-4798-afe3-aea13526bc24"
      },
      "execution_count": null,
      "outputs": [
        {
          "output_type": "execute_result",
          "data": {
            "text/plain": [
              "(46,)"
            ]
          },
          "metadata": {},
          "execution_count": 27
        }
      ]
    },
    {
      "cell_type": "code",
      "source": [
        "np.sum(predictions[0])"
      ],
      "metadata": {
        "colab": {
          "base_uri": "https://localhost:8080/"
        },
        "id": "7v-VxP4sm_q8",
        "outputId": "f07c23c1-a2ba-4a33-cd8c-1491a289b818"
      },
      "execution_count": null,
      "outputs": [
        {
          "output_type": "execute_result",
          "data": {
            "text/plain": [
              "1.0000001"
            ]
          },
          "metadata": {},
          "execution_count": 28
        }
      ]
    },
    {
      "cell_type": "markdown",
      "source": [
        "The class predicted is the one with highest probability"
      ],
      "metadata": {
        "id": "EBwAqXLBnGcM"
      }
    },
    {
      "cell_type": "code",
      "source": [
        "np.argmax(predictions[0])"
      ],
      "metadata": {
        "colab": {
          "base_uri": "https://localhost:8080/"
        },
        "id": "ixfwpLeMne_7",
        "outputId": "734db51b-4f20-4815-ea4d-4c387486ff1b"
      },
      "execution_count": null,
      "outputs": [
        {
          "output_type": "execute_result",
          "data": {
            "text/plain": [
              "3"
            ]
          },
          "metadata": {},
          "execution_count": 33
        }
      ]
    }
  ]
}