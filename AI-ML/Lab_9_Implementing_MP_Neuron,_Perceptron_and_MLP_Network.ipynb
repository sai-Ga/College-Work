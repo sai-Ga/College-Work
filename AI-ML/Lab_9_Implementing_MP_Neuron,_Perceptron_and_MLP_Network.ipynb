{
  "nbformat": 4,
  "nbformat_minor": 0,
  "metadata": {
    "colab": {
      "provenance": []
    },
    "kernelspec": {
      "name": "python3",
      "display_name": "Python 3"
    },
    "language_info": {
      "name": "python"
    }
  },
  "cells": [
    {
      "cell_type": "markdown",
      "source": [
        "# Lab 9 - Implementing McCullogch-Pitts Neuron Model and A Single Unit Perceptron Model\n",
        "\n",
        "**M-P Neuron Problem Statement:** Implement a single unit M-P Neuron Model and apply it on scikit learn's breast cancer dataset to classify whether a person has breast cancer or not. Implement any data pre-processing needed.\n",
        "\n",
        "**A Single Unit Perceptron Problem Statement:** Implement a single unit Perceptron and the corresponding Perceptron Learning Algorithm. Train the Perceptron to do binary classification of Iris flowers using the Iris dataset. Apply necessary data-preprocessing before feeding the data to the Perceptron model."
      ],
      "metadata": {
        "id": "EW-bJM98pq5p"
      }
    },
    {
      "cell_type": "markdown",
      "source": [
        "I] M-P Neuron Problem Solution\n",
        "\n",
        "Step 0: Importing the essential libraries"
      ],
      "metadata": {
        "id": "1psa-qnkqnUZ"
      }
    },
    {
      "cell_type": "code",
      "source": [
        "import numpy as np\n",
        "import pandas as pd\n",
        "import matplotlib.pyplot as plt\n",
        "\n",
        "# for splitting the data into train and test\n",
        "from sklearn.model_selection import train_test_split\n",
        "\n",
        "# for model evaluation\n",
        "from sklearn.metrics import accuracy_score\n",
        "\n",
        "# for getting the breast cancer dataset\n",
        "import sklearn.datasets"
      ],
      "metadata": {
        "id": "xo2M_qxfwEPG"
      },
      "execution_count": null,
      "outputs": []
    },
    {
      "cell_type": "markdown",
      "source": [
        "Step 1: Defining the MP Neuron"
      ],
      "metadata": {
        "id": "lLOh5tUDwJAh"
      }
    },
    {
      "cell_type": "code",
      "execution_count": null,
      "metadata": {
        "id": "Aki7hVwlpiRm"
      },
      "outputs": [],
      "source": [
        "class MP_Neuron:\n",
        "  # initializing the parameter value to 0\n",
        "  def __init__(self):\n",
        "    self.b = 0\n",
        "\n",
        "  # defining the model\n",
        "  def Model(self, x):\n",
        "    return np.sum(x) >= self.b\n",
        "\n",
        "  # optimizing the algorithm\n",
        "  def fit(self, x, y):\n",
        "    # for storing accuracies for different values of b\n",
        "    accuracy = {}\n",
        "\n",
        "    # since the range of b is from [0,n]\n",
        "    for b in range(x.shape[1] + 1):\n",
        "      self.b = b\n",
        "      yhat = []\n",
        "      for row in x:\n",
        "        yhat.append(self.Model(row))\n",
        "      accuracy[b] = accuracy_score(yhat, y)\n",
        "    best_b = max(accuracy, key = accuracy.get)\n",
        "    self.b = best_b\n",
        "    return [accuracy, best_b, accuracy[best_b]]\n",
        "\n",
        "    def predict(self, x, y):\n",
        "      yhat = []\n",
        "      for row in x:\n",
        "        yhat.append(self.Model(row))\n",
        "      accuracy = accuracy_score(y, yhat)\n",
        "      return accuracy\n",
        "\n"
      ]
    }
  ]
}