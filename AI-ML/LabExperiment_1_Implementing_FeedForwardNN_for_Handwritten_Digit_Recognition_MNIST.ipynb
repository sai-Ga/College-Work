{
  "nbformat": 4,
  "nbformat_minor": 0,
  "metadata": {
    "colab": {
      "provenance": []
    },
    "kernelspec": {
      "name": "python3",
      "display_name": "Python 3"
    },
    "language_info": {
      "name": "python"
    }
  },
  "cells": [
    {
      "cell_type": "markdown",
      "source": [
        "# **Lab 1: Understanding Keras Deep Learning Library and Implementing a Simple Neural Network for Handwritten Digit Recognition using Keras**\n",
        "\n",
        "**Date: 27 September 2023**\n",
        "\n",
        "**Problem Description:** Using Keras build a Neural Network model and train it using MNIST dataset for doing Handwritten Digit Recognition.\n",
        "\n",
        "Finally evaluate the performnance of the model on Test Dataset provided in MNIST"
      ],
      "metadata": {
        "id": "sQUmk7Y0mfoj"
      }
    },
    {
      "cell_type": "markdown",
      "source": [
        "## **Introduction to Keras**\n",
        "\n",
        "Keras is a deep-learning framework for Python that provides a convenient way to define and\n",
        "train almost any kind of deep-learning model.\n",
        "\n",
        "Keras was initially developed for\n",
        "researchers, with the aim of enabling fast experimentation.\n",
        "\n",
        "Keras has the following key features:\n",
        "\n",
        "\n",
        "*   It allows the same code to run seamlessly on CPU or GPU.\n",
        "*   It has a user-friendly API that makes it easy to quickly prototype deep-learning\n",
        "models.\n",
        "*   It has built-in support for convolutional networks (for computer vision), recurrent\n",
        "networks (for sequence processing), and any combination of both.\n",
        "*   It supports arbitrary network architectures: multi-input or multi-output models,\n",
        "layer sharing, model sharing, and so on.\n",
        "\n",
        "This means Keras is appropriate for\n",
        "building essentially any deep-learning model, from a generative adversarial network\n",
        "to a neural Turing machine.\n",
        "\n",
        "\n",
        "\n",
        "<img src='https://drive.google.com/uc?id=1PUHvHv5rJq9Isax38XNw9gNm2VZmfj0x' width=\"350\" height=\"200\"/>\n",
        "\n",
        "**Figure 1: Keras Software Hardware Stack for Deep Learning**"
      ],
      "metadata": {
        "id": "baaz-cmsmwNZ"
      }
    },
    {
      "cell_type": "markdown",
      "source": [
        "## **Anatomy of a Neural Network**\n",
        "Training a neural network revolves around the following objects:\n",
        "\n",
        "\n",
        "*   ***Layers*** which are combined into a ***network*** (or ***model***)\n",
        "*   The ***input data*** and corresponding ***targets***\n",
        "*  The ***loss function***, which defines the feedback signal used for learning\n",
        "* The ***optimizer***, which determines how the learning proceeds\n",
        "\n",
        "We can visualize their interaction as illustrated in the diagram below:\n",
        "\n",
        "<img src='https://drive.google.com/uc?id=16a8-t6FgcT4RK6Q6k7pxh8a6TzfDWdub' width=\"350\" height=\"200\"/>\n",
        "\n",
        "**Figure 2: Four major components in training a Neural Network Model**\n"
      ],
      "metadata": {
        "id": "OWje2UqoWiGr"
      }
    },
    {
      "cell_type": "markdown",
      "source": [
        "### Step 1 - Setting up Keras and Numpy"
      ],
      "metadata": {
        "id": "iJ-meJZL4dVK"
      }
    },
    {
      "cell_type": "code",
      "execution_count": null,
      "metadata": {
        "id": "Ep0Qm1M4QIWx"
      },
      "outputs": [],
      "source": [
        "\n",
        "# Step 1 - Setting up Keras and Numpy\n",
        "import numpy as np\n",
        "import tensorflow as tf\n",
        "from tensorflow import keras"
      ]
    },
    {
      "cell_type": "markdown",
      "source": [
        "### Step 2 - Loading of MNIST dataset"
      ],
      "metadata": {
        "id": "KCogoGiY4iDb"
      }
    },
    {
      "cell_type": "code",
      "source": [
        "\n",
        "from keras.datasets import mnist\n",
        "(train_images, train_labels), (test_images, test_labels) = mnist.load_data()"
      ],
      "metadata": {
        "id": "r0n-H6QoScNB"
      },
      "execution_count": null,
      "outputs": []
    },
    {
      "cell_type": "markdown",
      "source": [
        "### Step 3 - Have a look at the data"
      ],
      "metadata": {
        "id": "E-SaiGS74nap"
      }
    },
    {
      "cell_type": "code",
      "source": [
        "\n",
        "train_images.shape"
      ],
      "metadata": {
        "colab": {
          "base_uri": "https://localhost:8080/"
        },
        "id": "-XVaN-fYTI7m",
        "outputId": "120a6372-b4c3-4e8b-9d4e-46bfe6c14cab"
      },
      "execution_count": null,
      "outputs": [
        {
          "output_type": "execute_result",
          "data": {
            "text/plain": [
              "(60000, 28, 28)"
            ]
          },
          "metadata": {},
          "execution_count": 19
        }
      ]
    },
    {
      "cell_type": "code",
      "source": [
        "print(train_labels)"
      ],
      "metadata": {
        "colab": {
          "base_uri": "https://localhost:8080/"
        },
        "id": "Iz1AOwvRTyp0",
        "outputId": "522ef4f5-2b67-433e-81ca-a3dbdad10cd2"
      },
      "execution_count": null,
      "outputs": [
        {
          "output_type": "stream",
          "name": "stdout",
          "text": [
            "[5 0 4 ... 5 6 8]\n"
          ]
        }
      ]
    },
    {
      "cell_type": "code",
      "source": [
        "print(train_images.dtype)"
      ],
      "metadata": {
        "colab": {
          "base_uri": "https://localhost:8080/"
        },
        "id": "CuE6zDzAVMXz",
        "outputId": "41340f50-726d-46fd-e12b-f2a775915531"
      },
      "execution_count": null,
      "outputs": [
        {
          "output_type": "stream",
          "name": "stdout",
          "text": [
            "uint8\n"
          ]
        }
      ]
    },
    {
      "cell_type": "code",
      "source": [
        "# Plot a sample image from the training dataset\n",
        "i = 4\n",
        "digit = train_images[i]\n",
        "\n",
        "import matplotlib.pyplot as plt\n",
        "plt.imshow(digit, cmap = plt.cm.binary)\n",
        "plt.show()"
      ],
      "metadata": {
        "colab": {
          "base_uri": "https://localhost:8080/",
          "height": 430
        },
        "id": "sNMdBwQSVVBn",
        "outputId": "95c2f152-a42e-422e-efbb-d1574ee3c3b8"
      },
      "execution_count": null,
      "outputs": [
        {
          "output_type": "display_data",
          "data": {
            "text/plain": [
              "<Figure size 640x480 with 1 Axes>"
            ],
            "image/png": "[encoded data removed]"
          },
          "metadata": {}
        }
      ]
    },
    {
      "cell_type": "code",
      "source": [
        "print(train_labels[i])"
      ],
      "metadata": {
        "colab": {
          "base_uri": "https://localhost:8080/"
        },
        "id": "GbxvycoMWOrx",
        "outputId": "93292e50-67cd-49b0-d27e-70c80bf06b5d"
      },
      "execution_count": null,
      "outputs": [
        {
          "output_type": "stream",
          "name": "stdout",
          "text": [
            "9\n"
          ]
        }
      ]
    },
    {
      "cell_type": "markdown",
      "source": [
        "### Step 4 - Building the layered Neural Network Model for Handwritten Digit Recognition"
      ],
      "metadata": {
        "id": "rxQcufYW4sek"
      }
    },
    {
      "cell_type": "code",
      "source": [
        "from keras import models\n",
        "from keras import layers\n",
        "\n",
        "network = models.Sequential()\n",
        "network.add(layers.Dense(512, activation='relu', input_shape=(28*28,)))\n",
        "network.add(layers.Dense(10, activation='softmax'))"
      ],
      "metadata": {
        "id": "Q0cLccqXWvN9"
      },
      "execution_count": null,
      "outputs": []
    },
    {
      "cell_type": "markdown",
      "source": [
        "### Step 5- Compiling the Neural Network Model"
      ],
      "metadata": {
        "id": "vTpKG0Ls94oW"
      }
    },
    {
      "cell_type": "code",
      "source": [
        "# by providing optimizer, loss function and accuracy metric\n",
        "network.compile(optimizer='rmsprop', loss='categorical_crossentropy', metrics=['accuracy'])"
      ],
      "metadata": {
        "id": "Wv64wp2YbSAG"
      },
      "execution_count": null,
      "outputs": []
    },
    {
      "cell_type": "markdown",
      "source": [
        "### Step 6 - Input Data Preparation or Pre-Processing"
      ],
      "metadata": {
        "id": "ENaFysCr4wa8"
      }
    },
    {
      "cell_type": "code",
      "source": [
        "train_images = train_images.reshape((60000, 28 * 28))\n",
        "train_images = train_images.astype('float32')/255\n",
        "\n",
        "test_images = test_images.reshape((10000, 28*28))\n",
        "test_images = test_images.astype('float32')/255"
      ],
      "metadata": {
        "id": "V8azi9vKb-uD"
      },
      "execution_count": null,
      "outputs": []
    },
    {
      "cell_type": "code",
      "source": [
        "print(train_labels[0])\n",
        "print(test_labels[0])"
      ],
      "metadata": {
        "colab": {
          "base_uri": "https://localhost:8080/"
        },
        "id": "IarxQMuTQWwz",
        "outputId": "9d16dccb-a066-4714-9d1e-1770ba771369"
      },
      "execution_count": null,
      "outputs": [
        {
          "output_type": "stream",
          "name": "stdout",
          "text": [
            "5\n",
            "7\n"
          ]
        }
      ]
    },
    {
      "cell_type": "code",
      "source": [
        "# Preparing the labels (using One Hot Encoding)\n",
        "from keras.utils to_categorical\n",
        "import\n",
        "train_labels = to_categorical(train_labels)\n",
        "test_labels = to_categorical(test_labels)\n"
      ],
      "metadata": {
        "id": "C_e3_SGfRXMl"
      },
      "execution_count": null,
      "outputs": []
    },
    {
      "cell_type": "code",
      "source": [
        "print(train_labels[0])"
      ],
      "metadata": {
        "colab": {
          "base_uri": "https://localhost:8080/"
        },
        "id": "2a3mP8AMRmWO",
        "outputId": "0d30300e-b2b2-4c8f-c7e5-deceddb4c21c"
      },
      "execution_count": null,
      "outputs": [
        {
          "output_type": "stream",
          "name": "stdout",
          "text": [
            "[0. 0. 0. 0. 0. 1. 0. 0. 0. 0.]\n"
          ]
        }
      ]
    },
    {
      "cell_type": "markdown",
      "source": [
        "### Step7: We are now ready to train the network.\n",
        "Training is done in Keras via calling *fit* method on the network model"
      ],
      "metadata": {
        "id": "RlMaOeulR3cm"
      }
    },
    {
      "cell_type": "code",
      "source": [
        "network.fit(train_images, train_labels, epochs=5, batch_size=128)\n"
      ],
      "metadata": {
        "colab": {
          "base_uri": "https://localhost:8080/"
        },
        "id": "NDBdyOiJSN3z",
        "outputId": "59bf5b24-c31a-4ed4-9cc4-a324469049d7"
      },
      "execution_count": null,
      "outputs": [
        {
          "output_type": "stream",
          "name": "stdout",
          "text": [
            "Epoch 1/5\n",
            "469/469 [==============================] - 5s 9ms/step - loss: 0.2629 - accuracy: 0.9253\n",
            "Epoch 2/5\n",
            "469/469 [==============================] - 5s 11ms/step - loss: 0.1057 - accuracy: 0.9689\n",
            "Epoch 3/5\n",
            "469/469 [==============================] - 4s 9ms/step - loss: 0.0702 - accuracy: 0.9794\n",
            "Epoch 4/5\n",
            "469/469 [==============================] - 4s 9ms/step - loss: 0.0511 - accuracy: 0.9848\n",
            "Epoch 5/5\n",
            "469/469 [==============================] - 5s 11ms/step - loss: 0.0384 - accuracy: 0.9882\n"
          ]
        },
        {
          "output_type": "execute_result",
          "data": {
            "text/plain": [
              "<keras.src.callbacks.History at 0x7aebd44cab60>"
            ]
          },
          "metadata": {},
          "execution_count": 30
        }
      ]
    },
    {
      "cell_type": "markdown",
      "source": [
        "### Step 8: Evaluating the Performance of our Trained NN Model on Test Data"
      ],
      "metadata": {
        "id": "mZb_i63KX838"
      }
    },
    {
      "cell_type": "code",
      "source": [
        "test_loss,test_acc = network.evaluate(test_images, test_labels)\n",
        "print('test accuracy: ', test_acc)"
      ],
      "metadata": {
        "colab": {
          "base_uri": "https://localhost:8080/"
        },
        "id": "n8S0RN2jYGyV",
        "outputId": "0d32772e-6e51-406b-af78-d964a8720b61"
      },
      "execution_count": null,
      "outputs": [
        {
          "output_type": "stream",
          "name": "stdout",
          "text": [
            "313/313 [==============================] - 1s 3ms/step - loss: 0.0698 - accuracy: 0.9798\n",
            "test accuracy:  0.9797999858856201\n"
          ]
        }
      ]
    },
    {
      "cell_type": "markdown",
      "source": [
        "### Step 9 - The Final Step -Using the Trained and Tested Model to do actual work of Prediction"
      ],
      "metadata": {
        "id": "3tXVCJ6NY5Fe"
      }
    },
    {
      "cell_type": "code",
      "source": [
        "network.predict(test_images[0:1])"
      ],
      "metadata": {
        "colab": {
          "base_uri": "https://localhost:8080/"
        },
        "id": "tQxfoVN1ZANc",
        "outputId": "253df5b5-4a21-4c24-9886-6d60c842cfa3"
      },
      "execution_count": null,
      "outputs": [
        {
          "output_type": "stream",
          "name": "stdout",
          "text": [
            "1/1 [==============================] - 0s 145ms/step\n"
          ]
        },
        {
          "output_type": "execute_result",
          "data": {
            "text/plain": [
              "array([[4.7053657e-08, 5.4932632e-09, 1.0811377e-06, 3.9504586e-05,\n",
              "        6.2357397e-11, 2.3212078e-07, 1.5316814e-12, 9.9995768e-01,\n",
              "        1.3169583e-07, 1.4159730e-06]], dtype=float32)"
            ]
          },
          "metadata": {},
          "execution_count": 32
        }
      ]
    },
    {
      "cell_type": "code",
      "source": [
        "test_images_copy = test_images.reshape((10000,28,28))\n",
        "digit = test_images_copy[0]\n",
        "\n",
        "import matplotlib.pyplot as plt\n",
        "plt.imshow(digit, cmap = plt.cm.binary)\n",
        "plt.show()"
      ],
      "metadata": {
        "colab": {
          "base_uri": "https://localhost:8080/",
          "height": 430
        },
        "id": "dVd9X5ePbIEQ",
        "outputId": "ebb977d3-bbef-422b-9891-a6929d2dce13"
      },
      "execution_count": null,
      "outputs": [
        {
          "output_type": "display_data",
          "data": {
            "text/plain": [
              "<Figure size 640x480 with 1 Axes>"
            ],
            "image/png": "[encoded data removed]"
          },
          "metadata": {}
        }
      ]
    }
  ]
}