{
  "nbformat": 4,
  "nbformat_minor": 0,
  "metadata": {
    "colab": {
      "provenance": []
    },
    "kernelspec": {
      "name": "python3",
      "display_name": "Python 3"
    },
    "language_info": {
      "name": "python"
    }
  },
  "cells": [
    {
      "cell_type": "markdown",
      "source": [
        "# **Lab 2: Understanding and Implementing Numpy Tensors and Tensor Operations like Slicing, Broadcasting and Reshaping**"
      ],
      "metadata": {
        "id": "wnCPmMQOk7LK"
      }
    },
    {
      "cell_type": "code",
      "execution_count": null,
      "metadata": {
        "id": "PkZWzYFiZPTl"
      },
      "outputs": [],
      "source": [
        "# Setting up of Tensorflow, Keras and Numpy\n",
        "import numpy as np\n",
        "import tensorflow as tf\n",
        "from tensorflow import keras"
      ]
    },
    {
      "cell_type": "code",
      "source": [
        "# Everything is Tensor for Numpy\n",
        "x = np.array(14)\n",
        "x.ndim # A scalar is a 0-D tensor"
      ],
      "metadata": {
        "colab": {
          "base_uri": "https://localhost:8080/"
        },
        "id": "8UAJSf7uZ7v9",
        "outputId": "786f9aee-6888-4ed1-feab-0e2734e01585"
      },
      "execution_count": null,
      "outputs": [
        {
          "output_type": "execute_result",
          "data": {
            "text/plain": [
              "0"
            ]
          },
          "metadata": {},
          "execution_count": 4
        }
      ]
    },
    {
      "cell_type": "code",
      "source": [
        "x.shape # shape tuple is empty for a 0-D tensor"
      ],
      "metadata": {
        "colab": {
          "base_uri": "https://localhost:8080/"
        },
        "id": "a79tTCspacRT",
        "outputId": "13e1f67d-2437-4ebd-9b79-b45ebd9eb4a1"
      },
      "execution_count": null,
      "outputs": [
        {
          "output_type": "execute_result",
          "data": {
            "text/plain": [
              "()"
            ]
          },
          "metadata": {},
          "execution_count": 5
        }
      ]
    },
    {
      "cell_type": "code",
      "source": [
        "# A Vector is a 1-D Tensor\n",
        "x = np.array([14, 21, 34, 78])\n",
        "x.ndim"
      ],
      "metadata": {
        "colab": {
          "base_uri": "https://localhost:8080/"
        },
        "id": "IlxXjt1Oah2b",
        "outputId": "147f8388-3f8a-44ae-f069-fb4305813404"
      },
      "execution_count": null,
      "outputs": [
        {
          "output_type": "execute_result",
          "data": {
            "text/plain": [
              "1"
            ]
          },
          "metadata": {},
          "execution_count": 7
        }
      ]
    },
    {
      "cell_type": "code",
      "source": [
        "x.shape # Shape of a 1-D tensor is (no_of_elements,)"
      ],
      "metadata": {
        "colab": {
          "base_uri": "https://localhost:8080/"
        },
        "id": "wcCqe0DibYh6",
        "outputId": "676d145b-7005-48d3-899d-972b7af51444"
      },
      "execution_count": null,
      "outputs": [
        {
          "output_type": "execute_result",
          "data": {
            "text/plain": [
              "(4,)"
            ]
          },
          "metadata": {},
          "execution_count": 8
        }
      ]
    },
    {
      "cell_type": "code",
      "source": [
        "# A Matrix or An array of array is a 2-D Tensor\n",
        "x = np.array([[14,21,34,78],\n",
        "              [15,22,35,79],\n",
        "              [16,23,36,80]])\n",
        "x.ndim # number of dimensions or rank of a 2-D Tensor"
      ],
      "metadata": {
        "colab": {
          "base_uri": "https://localhost:8080/"
        },
        "id": "INA7vx8JcAwB",
        "outputId": "cbf89b30-695d-47c6-cf90-08f8ce27c0d8"
      },
      "execution_count": null,
      "outputs": [
        {
          "output_type": "execute_result",
          "data": {
            "text/plain": [
              "2"
            ]
          },
          "metadata": {},
          "execution_count": 6
        }
      ]
    },
    {
      "cell_type": "code",
      "source": [
        "x.shape # shape of a 2-D tensor is a tuple specifying no of elements in each axis"
      ],
      "metadata": {
        "colab": {
          "base_uri": "https://localhost:8080/"
        },
        "id": "wfI4dUmdchgn",
        "outputId": "24702e9a-e237-42e8-a9c8-d7898d29f1de"
      },
      "execution_count": null,
      "outputs": [
        {
          "output_type": "execute_result",
          "data": {
            "text/plain": [
              "(3, 4)"
            ]
          },
          "metadata": {},
          "execution_count": 7
        }
      ]
    },
    {
      "cell_type": "code",
      "source": [
        "# A 3-D Tensor is an array of matrices\n",
        "x = np.array([[[41,21,34,78],\n",
        "              [15,72,35,79],\n",
        "              [16,23,6,80]],\n",
        "\n",
        "              [[14,21,34,78],\n",
        "              [15,22,5,79],\n",
        "              [16,23,36,80]],\n",
        "\n",
        "              [[14,21,34,78],\n",
        "              [15,2,35,79],\n",
        "              [16,23,36,80]],\n",
        "\n",
        "              [[14,1,34,78],\n",
        "              [15,22,35,79],\n",
        "              [16,23,36,80]]\n",
        "              ])\n",
        "\n",
        "x.ndim # For a 3-D tensor ndim is 3"
      ],
      "metadata": {
        "colab": {
          "base_uri": "https://localhost:8080/"
        },
        "id": "8t3zVEQzc-5b",
        "outputId": "b45b1936-aa76-4320-8c35-36b529e2c4e9"
      },
      "execution_count": null,
      "outputs": [
        {
          "output_type": "execute_result",
          "data": {
            "text/plain": [
              "3"
            ]
          },
          "metadata": {},
          "execution_count": 8
        }
      ]
    },
    {
      "cell_type": "code",
      "source": [
        "x.shape # Shape of a 3-D tensor is (i,j,k) where i is no of matrices,\n",
        "        # j is no of rows in each matrix and k is no of cols in each matrix"
      ],
      "metadata": {
        "colab": {
          "base_uri": "https://localhost:8080/"
        },
        "id": "pXEQML29dvCc",
        "outputId": "30e3bfd8-2f8c-4a02-ebc1-4a334e92c4e9"
      },
      "execution_count": null,
      "outputs": [
        {
          "output_type": "execute_result",
          "data": {
            "text/plain": [
              "(4, 3, 4)"
            ]
          },
          "metadata": {},
          "execution_count": 9
        }
      ]
    },
    {
      "cell_type": "markdown",
      "source": [
        "# Topic 1 - Understanding Tensor Slicing\n",
        "**Tensor Slicing:** Selecting specific elements in a tensor is called as *tensor slicing*"
      ],
      "metadata": {
        "id": "-z8imImwfSNg"
      }
    },
    {
      "cell_type": "code",
      "source": [
        "from keras.datasets import mnist\n",
        "(train_images, train_labels), (test_images, test_labels) = mnist.load_data()"
      ],
      "metadata": {
        "colab": {
          "base_uri": "https://localhost:8080/"
        },
        "id": "6xhs1-fDgCmj",
        "outputId": "150b7522-13d7-434e-cbfb-b616481240b2"
      },
      "execution_count": null,
      "outputs": [
        {
          "output_type": "stream",
          "name": "stdout",
          "text": [
            "Downloading data from https://storage.googleapis.com/tensorflow/tf-keras-datasets/mnist.npz\n",
            "11490434/11490434 [==============================] - 0s 0us/step\n"
          ]
        }
      ]
    },
    {
      "cell_type": "markdown",
      "source": [
        "## Tensor Slicing Example 1##\n",
        "**Selecting a subset of images**"
      ],
      "metadata": {
        "id": "usOYBznYhJL_"
      }
    },
    {
      "cell_type": "code",
      "source": [
        "print(train_images.shape)\n",
        "my_slice = train_images[10]\n",
        "print(my_slice.shape) # Select the tenth image from the dataset of 60 K images"
      ],
      "metadata": {
        "colab": {
          "base_uri": "https://localhost:8080/"
        },
        "id": "a6qICsyhhUXs",
        "outputId": "bf9986bd-a953-410e-b7fa-321aa3feed05"
      },
      "execution_count": null,
      "outputs": [
        {
          "output_type": "stream",
          "name": "stdout",
          "text": [
            "(60000, 28, 28)\n",
            "(28, 28)\n"
          ]
        }
      ]
    },
    {
      "cell_type": "code",
      "source": [
        "my_slice = train_images[10:100] # Selecting all images from 10th upto 100th (excl 100th)\n",
        "my_slice.shape # we have selected 90 images"
      ],
      "metadata": {
        "colab": {
          "base_uri": "https://localhost:8080/"
        },
        "id": "IVo51oldiFhL",
        "outputId": "e7c34aa5-2558-49a2-9f64-7849ed4c2967"
      },
      "execution_count": null,
      "outputs": [
        {
          "output_type": "execute_result",
          "data": {
            "text/plain": [
              "(90, 28, 28)"
            ]
          },
          "metadata": {},
          "execution_count": 12
        }
      ]
    },
    {
      "cell_type": "code",
      "source": [
        "my_slice = train_images[10:100,0:28, 0:28] # this is equivalent to previous code\n",
        "my_slice.shape"
      ],
      "metadata": {
        "colab": {
          "base_uri": "https://localhost:8080/"
        },
        "id": "Gt5Wz_AwisOn",
        "outputId": "b8457faf-aa86-4f83-f923-4cec9e951dbd"
      },
      "execution_count": null,
      "outputs": [
        {
          "output_type": "execute_result",
          "data": {
            "text/plain": [
              "(90, 28, 28)"
            ]
          },
          "metadata": {},
          "execution_count": 13
        }
      ]
    },
    {
      "cell_type": "code",
      "source": [
        "my_slice = train_images[10:100, :, :] # this is also equivalent\n",
        "my_slice.shape"
      ],
      "metadata": {
        "colab": {
          "base_uri": "https://localhost:8080/"
        },
        "id": "VWHhsVP3jGZB",
        "outputId": "f956a719-9e6a-4906-f7bf-4dfb6864b941"
      },
      "execution_count": null,
      "outputs": [
        {
          "output_type": "execute_result",
          "data": {
            "text/plain": [
              "(90, 28, 28)"
            ]
          },
          "metadata": {},
          "execution_count": 14
        }
      ]
    },
    {
      "cell_type": "markdown",
      "source": [
        "**Tensor Slicing - Exercise 1:** Apply tensor slicing to get the 14 x 14 pixels from the bottom right corner of all images"
      ],
      "metadata": {
        "id": "Tees5Tcdjuyz"
      }
    },
    {
      "cell_type": "code",
      "source": [
        "my_slice = train_images[:,14:28, 14:28]\n",
        "my_slice.shape"
      ],
      "metadata": {
        "colab": {
          "base_uri": "https://localhost:8080/"
        },
        "id": "BRBmufj8kBtJ",
        "outputId": "10ba3367-7970-4c30-c523-4cbb31c2ff51"
      },
      "execution_count": null,
      "outputs": [
        {
          "output_type": "execute_result",
          "data": {
            "text/plain": [
              "(60000, 14, 14)"
            ]
          },
          "metadata": {},
          "execution_count": 15
        }
      ]
    },
    {
      "cell_type": "markdown",
      "source": [
        "**Tensor Slicing - Exercise 2:** Apply tensor slicing to crop 14 x 14 pixels centered in the middle of each image"
      ],
      "metadata": {
        "id": "AiNJh875k7sh"
      }
    },
    {
      "cell_type": "code",
      "source": [
        "my_slice = train_images[:, 7:21, 7:21]\n",
        "my_slice.shape"
      ],
      "metadata": {
        "colab": {
          "base_uri": "https://localhost:8080/"
        },
        "id": "g9724c0SlSQH",
        "outputId": "f4f03f9d-29f4-4ce3-e6b3-9775c976a9a6"
      },
      "execution_count": null,
      "outputs": [
        {
          "output_type": "execute_result",
          "data": {
            "text/plain": [
              "(60000, 14, 14)"
            ]
          },
          "metadata": {},
          "execution_count": 16
        }
      ]
    },
    {
      "cell_type": "code",
      "source": [
        "# Alternative way to specify the same using negative indices\n",
        "my_slice = train_images[:,7:-7, 7:-7]\n",
        "my_slice.shape"
      ],
      "metadata": {
        "colab": {
          "base_uri": "https://localhost:8080/"
        },
        "id": "CIjcCqnsmsnR",
        "outputId": "7fc0f114-8c65-4405-f226-5d2651cd7530"
      },
      "execution_count": null,
      "outputs": [
        {
          "output_type": "execute_result",
          "data": {
            "text/plain": [
              "(60000, 14, 14)"
            ]
          },
          "metadata": {},
          "execution_count": 17
        }
      ]
    },
    {
      "cell_type": "markdown",
      "source": [
        "**Exercise 3:** Apply tensor slicing to select first three batches of images. Assume batch-size of 128"
      ],
      "metadata": {
        "id": "EA09QkpPnf9o"
      }
    },
    {
      "cell_type": "code",
      "source": [
        "batch1 = train_images[0:128] # batch of first 128 images\n"
      ],
      "metadata": {
        "id": "17714vxbnqSg"
      },
      "execution_count": null,
      "outputs": []
    },
    {
      "cell_type": "code",
      "source": [
        "batch2 = train_images[128:256] #batch of second set of 128 images\n",
        "batch2.shape"
      ],
      "metadata": {
        "colab": {
          "base_uri": "https://localhost:8080/"
        },
        "id": "Td9OsY0xopA9",
        "outputId": "0b3b51b6-ede4-4731-d022-ab3aa64cbecc"
      },
      "execution_count": null,
      "outputs": [
        {
          "output_type": "execute_result",
          "data": {
            "text/plain": [
              "(128, 28, 28)"
            ]
          },
          "metadata": {},
          "execution_count": 19
        }
      ]
    },
    {
      "cell_type": "code",
      "source": [
        "batch3 = train_images[256:384]\n",
        "batch3.shape"
      ],
      "metadata": {
        "colab": {
          "base_uri": "https://localhost:8080/"
        },
        "id": "NNYPiW5co_WX",
        "outputId": "8c61e3c2-5262-41b6-e79b-e996c2196381"
      },
      "execution_count": null,
      "outputs": [
        {
          "output_type": "execute_result",
          "data": {
            "text/plain": [
              "(128, 28, 28)"
            ]
          },
          "metadata": {},
          "execution_count": 20
        }
      ]
    },
    {
      "cell_type": "markdown",
      "source": [
        "**Exercise 4:** Try to generalize the selection of batches such that if asked to get nth batch your generalized code can fetch the same. Assume that you get the batch# as a parameter"
      ],
      "metadata": {
        "id": "YsNe1XBrpMKe"
      }
    },
    {
      "cell_type": "code",
      "source": [
        "n = 0\n",
        "batch_n = train_images[128* n : 128 * (n+1)]\n",
        "batch_n.shape"
      ],
      "metadata": {
        "colab": {
          "base_uri": "https://localhost:8080/"
        },
        "id": "jsya76LVphW3",
        "outputId": "d0bb4bc7-b1f9-4e06-90d9-36272b539692"
      },
      "execution_count": null,
      "outputs": [
        {
          "output_type": "execute_result",
          "data": {
            "text/plain": [
              "(128, 28, 28)"
            ]
          },
          "metadata": {},
          "execution_count": 21
        }
      ]
    },
    {
      "cell_type": "markdown",
      "source": [
        "# Topic 2 - Understanding Broadcasting\n",
        "The smaller tensor is usually *broadcasted* to match the shape of the larger tensor.\n",
        "Broadcasting consists of two steps:\n",
        "1. Axes are added to the smaller tensor to match the ndim of the larger tensor.\n",
        "2. The smaller tensor is repeated along-side the new axes to match the full shape of the larger tensor"
      ],
      "metadata": {
        "id": "g6AYVXBsQHKP"
      }
    },
    {
      "cell_type": "code",
      "source": [
        "# Example 1 - Successful Broadcasting\n",
        "\n",
        "# x is a 1 D tensor with shape (4,)\n",
        "x = np.array([1,4,6,9])\n",
        "x.ndim\n"
      ],
      "metadata": {
        "colab": {
          "base_uri": "https://localhost:8080/"
        },
        "id": "ZVNybFawRKM3",
        "outputId": "692af97e-6ffb-4e18-ab7c-5e6980f0382c"
      },
      "execution_count": null,
      "outputs": [
        {
          "output_type": "execute_result",
          "data": {
            "text/plain": [
              "1"
            ]
          },
          "metadata": {},
          "execution_count": 22
        }
      ]
    },
    {
      "cell_type": "code",
      "source": [
        "x.shape"
      ],
      "metadata": {
        "colab": {
          "base_uri": "https://localhost:8080/"
        },
        "id": "y5EVBrqdRpSM",
        "outputId": "8cd4873a-7200-41ea-e314-00c52809cd6d"
      },
      "execution_count": null,
      "outputs": [
        {
          "output_type": "execute_result",
          "data": {
            "text/plain": [
              "(4,)"
            ]
          },
          "metadata": {},
          "execution_count": 23
        }
      ]
    },
    {
      "cell_type": "code",
      "source": [
        "# y is a matrix (i.e., a 2-D tensor) with shape (3,4)\n",
        "y = np.array([[34,35,36,37],\n",
        "              [44,45,46,47],\n",
        "              [54,55,56,57]])\n",
        "y.ndim"
      ],
      "metadata": {
        "colab": {
          "base_uri": "https://localhost:8080/"
        },
        "id": "sLd_pawjRzwF",
        "outputId": "a1496075-4a7b-4a5a-8dc5-c0c5490e5094"
      },
      "execution_count": null,
      "outputs": [
        {
          "output_type": "execute_result",
          "data": {
            "text/plain": [
              "2"
            ]
          },
          "metadata": {},
          "execution_count": 24
        }
      ]
    },
    {
      "cell_type": "code",
      "source": [
        "y.shape"
      ],
      "metadata": {
        "colab": {
          "base_uri": "https://localhost:8080/"
        },
        "id": "Z5_Ix-eCS2i8",
        "outputId": "6f493cc5-cdf1-4d23-b2cd-17a46ba47648"
      },
      "execution_count": null,
      "outputs": [
        {
          "output_type": "execute_result",
          "data": {
            "text/plain": [
              "(3, 4)"
            ]
          },
          "metadata": {},
          "execution_count": 25
        }
      ]
    },
    {
      "cell_type": "code",
      "source": [
        "# They are actually not compatible for tensor operation of addition\n",
        "# However because of implicit broadcasting the shape of the smaller tensor x will be matched with shape of y\n",
        "x + y # successful because of broadcasting. Here due to broadcasting x is considered as:\n",
        "      # [[1,4,6,9],\n",
        "      #  [1,4,6,9],\n",
        "      #  [1,4,6,9]] for the tensor operation"
      ],
      "metadata": {
        "colab": {
          "base_uri": "https://localhost:8080/"
        },
        "id": "Yey69UgfR7TS",
        "outputId": "6c23d2ec-348f-4b6e-e6fa-a381c2bd675a"
      },
      "execution_count": null,
      "outputs": [
        {
          "output_type": "execute_result",
          "data": {
            "text/plain": [
              "array([[35, 39, 42, 46],\n",
              "       [45, 49, 52, 56],\n",
              "       [55, 59, 62, 66]])"
            ]
          },
          "metadata": {},
          "execution_count": 26
        }
      ]
    },
    {
      "cell_type": "code",
      "source": [
        "x.shape"
      ],
      "metadata": {
        "colab": {
          "base_uri": "https://localhost:8080/"
        },
        "id": "7U-HhMQ3SQme",
        "outputId": "062ae0af-62e8-47f6-9d79-957c59e91f64"
      },
      "execution_count": null,
      "outputs": [
        {
          "output_type": "execute_result",
          "data": {
            "text/plain": [
              "(4,)"
            ]
          },
          "metadata": {},
          "execution_count": 27
        }
      ]
    },
    {
      "cell_type": "code",
      "source": [
        "# Example 2 - Illustrating how broadcasting might fail in certain cases\n",
        "# If the shape of tensors cannot be made compatible through broadcasting you will get an error\n",
        "p = np.array([1,2,3,4,5])\n",
        "\n",
        "q = np.array([[1,2,3,4],\n",
        "              [5,6,7,8],\n",
        "              [9,10,11,12]\n",
        "           ])"
      ],
      "metadata": {
        "id": "HCa8y5WgSlzk"
      },
      "execution_count": null,
      "outputs": []
    },
    {
      "cell_type": "code",
      "source": [
        "# Here the smaller tensor p has shape (5,)\n",
        "# The larger tensor q has shape (3,4)\n",
        "# Thus they cannot be made compatible even through broadcasting.\n",
        "# Therefore we get error when we try to add them as seen below:\n",
        "p + q"
      ],
      "metadata": {
        "colab": {
          "base_uri": "https://localhost:8080/",
          "height": 200
        },
        "id": "MJoHzlTQXgXP",
        "outputId": "fee4818a-a2ee-489b-da66-698babbfe099"
      },
      "execution_count": null,
      "outputs": [
        {
          "output_type": "error",
          "ename": "ValueError",
          "evalue": "ignored",
          "traceback": [
            "\u001b[0;31m---------------------------------------------------------------------------\u001b[0m",
            "\u001b[0;31mValueError\u001b[0m                                Traceback (most recent call last)",
            "\u001b[0;32m<ipython-input-29-b29edab970ef>\u001b[0m in \u001b[0;36m<module>\u001b[0;34m\u001b[0m\n\u001b[1;32m      3\u001b[0m \u001b[0;31m# Thus they cannot be made compatible even through broadcasting.\u001b[0m\u001b[0;34m\u001b[0m\u001b[0;34m\u001b[0m\u001b[0;34m\u001b[0m\u001b[0m\n\u001b[1;32m      4\u001b[0m \u001b[0;31m# Therefore we get error when we try to add them as seen below:\u001b[0m\u001b[0;34m\u001b[0m\u001b[0;34m\u001b[0m\u001b[0;34m\u001b[0m\u001b[0m\n\u001b[0;32m----> 5\u001b[0;31m \u001b[0mp\u001b[0m \u001b[0;34m+\u001b[0m \u001b[0mq\u001b[0m\u001b[0;34m\u001b[0m\u001b[0;34m\u001b[0m\u001b[0m\n\u001b[0m",
            "\u001b[0;31mValueError\u001b[0m: operands could not be broadcast together with shapes (5,) (3,4) "
          ]
        }
      ]
    },
    {
      "cell_type": "markdown",
      "source": [
        "# Topic 3 - Understanding Tensor Reshaping\n",
        "Reshaping a tensor means rearranging the elements in the tensor or rearranging its rows and columns to match a target shape.\n",
        "\n",
        "The reshaped tensor has the same no of elements as the original tensor.\n",
        "\n",
        "Below are some simple examples of tensor reshaping:\n",
        "\n"
      ],
      "metadata": {
        "id": "jzaOMegSYnSk"
      }
    },
    {
      "cell_type": "code",
      "source": [
        "x = np.array([[1,2,3],\n",
        "              [4,5,6]])\n",
        "x.shape"
      ],
      "metadata": {
        "colab": {
          "base_uri": "https://localhost:8080/"
        },
        "id": "cbN4dVOPZVmq",
        "outputId": "521dbe12-6145-4c18-b39a-d2c39720fe36"
      },
      "execution_count": null,
      "outputs": [
        {
          "output_type": "execute_result",
          "data": {
            "text/plain": [
              "(2, 3)"
            ]
          },
          "metadata": {},
          "execution_count": 30
        }
      ]
    },
    {
      "cell_type": "code",
      "source": [
        "x = x.reshape((6,1))\n",
        "x"
      ],
      "metadata": {
        "colab": {
          "base_uri": "https://localhost:8080/"
        },
        "id": "1y2mr1ufZh1O",
        "outputId": "0b944ee3-2cdc-486b-b7a1-f008d6cd6b4e"
      },
      "execution_count": null,
      "outputs": [
        {
          "output_type": "execute_result",
          "data": {
            "text/plain": [
              "array([[1],\n",
              "       [2],\n",
              "       [3],\n",
              "       [4],\n",
              "       [5],\n",
              "       [6]])"
            ]
          },
          "metadata": {},
          "execution_count": 31
        }
      ]
    },
    {
      "cell_type": "code",
      "source": [
        "# Transpose operation is an example of reshaping\n",
        "x = np.array([[1,2,3],\n",
        "              [4,5,6]])\n",
        "print(x)\n"
      ],
      "metadata": {
        "colab": {
          "base_uri": "https://localhost:8080/"
        },
        "id": "reJJGdedaeGS",
        "outputId": "30b42190-3e31-4d5e-d09f-1aeb67b79cd3"
      },
      "execution_count": null,
      "outputs": [
        {
          "output_type": "stream",
          "name": "stdout",
          "text": [
            "[[1 2 3]\n",
            " [4 5 6]]\n"
          ]
        }
      ]
    },
    {
      "cell_type": "code",
      "source": [
        "x.shape"
      ],
      "metadata": {
        "colab": {
          "base_uri": "https://localhost:8080/"
        },
        "id": "d_EpIdn8ayR6",
        "outputId": "06710002-ffca-449d-ada7-b0ce60d6811b"
      },
      "execution_count": null,
      "outputs": [
        {
          "output_type": "execute_result",
          "data": {
            "text/plain": [
              "(2, 3)"
            ]
          },
          "metadata": {},
          "execution_count": 33
        }
      ]
    },
    {
      "cell_type": "code",
      "source": [
        "x = np.transpose(x)\n",
        "print(x)"
      ],
      "metadata": {
        "colab": {
          "base_uri": "https://localhost:8080/"
        },
        "id": "Oa9lCCEPapa7",
        "outputId": "f5090a5e-2d42-4d52-d6c2-79a94c165831"
      },
      "execution_count": null,
      "outputs": [
        {
          "output_type": "stream",
          "name": "stdout",
          "text": [
            "[[1 4]\n",
            " [2 5]\n",
            " [3 6]]\n"
          ]
        }
      ]
    },
    {
      "cell_type": "code",
      "source": [
        "x.shape"
      ],
      "metadata": {
        "colab": {
          "base_uri": "https://localhost:8080/"
        },
        "id": "waNqQ5SZa2x7",
        "outputId": "f1badf96-dff5-4245-b1f7-c159cf257520"
      },
      "execution_count": null,
      "outputs": [
        {
          "output_type": "execute_result",
          "data": {
            "text/plain": [
              "(3, 2)"
            ]
          },
          "metadata": {},
          "execution_count": 35
        }
      ]
    }
  ]
}